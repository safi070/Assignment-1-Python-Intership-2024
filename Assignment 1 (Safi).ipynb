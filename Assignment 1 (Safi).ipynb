{
 "cells": [
  {
   "cell_type": "markdown",
   "id": "c066194d-995d-4c8c-8464-ac01b64898c4",
   "metadata": {},
   "source": [
    "# Python Online Summer Intership 2024"
   ]
  },
  {
   "cell_type": "markdown",
   "id": "b4298aae-ea41-41e0-9dad-95817fd9bc08",
   "metadata": {},
   "source": [
    "## Make your place in Top 20% in python programof the world "
   ]
  },
  {
   "cell_type": "markdown",
   "id": "fd98a2cb-a329-4108-9f2f-9a0f122f6112",
   "metadata": {},
   "source": [
    "# Name : M. Safi-Ur-Rehman"
   ]
  },
  {
   "cell_type": "markdown",
   "id": "7cb21fa9-d845-4257-ae1c-a2ea2a988d44",
   "metadata": {},
   "source": [
    "# Email : safirehman083@gmail.com"
   ]
  },
  {
   "cell_type": "markdown",
   "id": "db985fd3-281d-4795-a227-eaf880cf9fd7",
   "metadata": {},
   "source": [
    "#                                  TITLE :   Assignment 1"
   ]
  },
  {
   "cell_type": "markdown",
   "id": "19471621-2bbc-4bae-8d1a-87653ab6d402",
   "metadata": {},
   "source": [
    "## -> ** Numbers ** <--"
   ]
  },
  {
   "cell_type": "markdown",
   "id": "136f4376-c980-463a-ade9-86d5281def04",
   "metadata": {},
   "source": [
    "## -> Tasks "
   ]
  },
  {
   "cell_type": "markdown",
   "id": "dfab7e79-c02c-4680-922d-f6c3704fdb34",
   "metadata": {},
   "source": [
    "## Task 1:\n",
    "### Step 1: Correct understanding of real world problem scenerio\n",
    "         Print the following message on the screen \n",
    "          your Name \n",
    "          your age\n",
    "          your marks percentage\n",
    "### Step 2: Extract client requirement \n",
    "        A simple program to Print the following message on the scree \n",
    "         your Name \n",
    "         your age\n",
    "           your marks percentage\n",
    "### Step 3: Extract Input Processing Output\n",
    "        Input: \n",
    "           your Name \n",
    "           your age\n",
    "           your marks percentage\n",
    "       Processing: \n",
    "           print() function\n",
    "       Output:\n",
    "           your Name \n",
    "           your age\n",
    "           your marks percentage\n",
    "### Step 4: Write Down Psudo Code\n",
    "          1.Start\n",
    "          2. print Your Name\n",
    "          3. print your age \n",
    "          4. print Percentage\n",
    "          5. End\n",
    "### Step 5: Draw Flowchart If needed\n",
    "             Not Required\n",
    "### Step 6: Select most suitable programing language , IDE , machine to write high quality code\n",
    "           Programing language : Python \n",
    "           IDE : Jupyter notebook\n",
    "           Operanting system : Windows 11\n",
    "           Machine : i5 (12th gen)\n",
    "### Step 7: Write Down developer and system information\n",
    "          Company Name : iLM-O-irfan \n",
    "           Developer Name : M.Safi-Ur-Rehman\n",
    "           Developer ID : 123345\n",
    "           Mobile No: 0335 xxxxxxx\n",
    "           Operating System : Windows 11\n",
    "           IDE : Jupyter notebook\n",
    "           Program Name :\n",
    "           Version:\n",
    "           Licence:\n",
    "           Start Date:\n",
    "           End Date:\n",
    "### Step 8: Transform Psudo code (Or Flowchart) with proper comments:\n",
    "           Given Below:- \n",
    "### Step 9: Test Your Code\n",
    "           Tested...\n",
    "### Step 10: Deploy your software for client usage\n",
    "           Software Doply on Client Website \n",
    "           Users of the website can acess this by signing into to the website"
   ]
  },
  {
   "cell_type": "code",
   "execution_count": 1,
   "id": "e1fd22ac-832f-421f-b75b-3f034d01f8a6",
   "metadata": {},
   "outputs": [
    {
     "name": "stdout",
     "output_type": "stream",
     "text": [
      "Muhammad Safi Ur Rehman\n",
      "18\n",
      "93\n"
     ]
    }
   ],
   "source": [
    "# Code\n",
    "print(\"Muhammad Safi Ur Rehman\")\n",
    "print(18)\n",
    "print(93)"
   ]
  },
  {
   "cell_type": "markdown",
   "id": "ab66250d-26a7-4861-b111-d43290bf99df",
   "metadata": {},
   "source": [
    "## Task 2:\n",
    "### Step 1: Correct understanding of real world problem scenerio\n",
    "         print the following information about your city on the screen   \n",
    "           name , population , famous for , area\n",
    "### Step 2: Extract client requirement \n",
    "        A simple program to Print the following message about your city on the scree \n",
    "         name , population , famous for , area\n",
    "### Step 3: Extract Input Processing Output\n",
    "        Input: \n",
    "           name , population , famous for , area\n",
    "       Processing: \n",
    "           print() function\n",
    "       Output:\n",
    "           name , population , famous for , area\n",
    "### Step 4: Write Down Psudo Code\n",
    "          1.Start\n",
    "          2. print Your Name\n",
    "          3. print your city population \n",
    "          4. print your  what your city is famous for\n",
    "          5. print area of your city \n",
    "          6. End\n",
    "### Step 5: Draw Flowchart If needed\n",
    "             Not Required\n",
    "### Step 6: Select most suitable programing language , IDE , machine to write high quality code\n",
    "           Programing language : Python \n",
    "           IDE : Jupyter notebook\n",
    "           Operanting system : Windows 11\n",
    "           Machine : i5 (12th gen)\n",
    "### Step 7: Write Down developer and system information\n",
    "          Company Name : iLM-O-irfan \n",
    "           Developer Name : M.Safi-Ur-Rehman\n",
    "           Developer ID : 123345\n",
    "           Mobile No: 0335 xxxxxxx\n",
    "           Operating System : Windows 11\n",
    "           IDE : Jupyter notebook\n",
    "           Program Name :\n",
    "           Version:\n",
    "           Licence:\n",
    "           Start Date:\n",
    "           End Date:\n",
    "### Step 8: Transform Psudo code (Or Flowchart) with proper comments:\n",
    "           Given Below:- \n",
    "### Step 9: Test Your Code\n",
    "           Tested...\n",
    "### Step 10: Deploy your software for client usage\n",
    "           Software Doply on Client Website \n",
    "           Users of the website can acess this by signing into to the website"
   ]
  },
  {
   "cell_type": "code",
   "execution_count": 2,
   "id": "6642b6ce-9490-4577-976b-6f5d1f74f46f",
   "metadata": {},
   "outputs": [
    {
     "name": "stdout",
     "output_type": "stream",
     "text": [
      "Lahore\n",
      "11.13 Million\n",
      "Lahore is mostly Famous for its kind hearted people and Old monuments\n",
      "1770\n"
     ]
    }
   ],
   "source": [
    "# Code\n",
    "print(\"Lahore\")\n",
    "print(\"11.13 Million\")\n",
    "print(\"Lahore is mostly Famous for its kind hearted people and Old monuments\")\n",
    "print(1770)"
   ]
  },
  {
   "cell_type": "markdown",
   "id": "5b395d03-46a1-4e64-adbf-38e3e09729c1",
   "metadata": {},
   "source": [
    "## Task 3:\n",
    "### Step 1: Correct understanding of real world problem scenerio\n",
    "        print the folloeing message\n",
    "           city name , temperature \n",
    "### Step 2: Extract client requirement \n",
    "        A simple program to Print the following message  \n",
    "         city name , temperature\n",
    "### Step 3: Extract Input Processing Output\n",
    "        Input: \n",
    "           city name , temperature\n",
    "       Processing: \n",
    "           print() function\n",
    "       Output:\n",
    "           city name , temperature\n",
    "### Step 4: Write Down Psudo Code\n",
    "          1.Start\n",
    "          2. print Your City Name\n",
    "          3. print your city Temperatue \n",
    "          4. End\n",
    "### Step 5: Draw Flowchart If needed\n",
    "             Not Required\n",
    "### Step 6: Select most suitable programing language , IDE , machine to write high quality code\n",
    "           Programing language : Python \n",
    "           IDE : Jupyter notebook\n",
    "           Operanting system : Windows 11\n",
    "           Machine : i5 (12th gen)\n",
    "### Step 7: Write Down developer and system information\n",
    "          Company Name : iLM-O-irfan \n",
    "           Developer Name : M.Safi-Ur-Rehman\n",
    "           Developer ID : 123345\n",
    "           Mobile No: 0335 xxxxxxx\n",
    "           Operating System : Windows 11\n",
    "           IDE : Jupyter notebook\n",
    "           Program Name :\n",
    "           Version:\n",
    "           Licence:\n",
    "           Start Date:\n",
    "           End Date:\n",
    "### Step 8: Transform Psudo code (Or Flowchart) with proper comments:\n",
    "           Given Below:- \n",
    "### Step 9: Test Your Code\n",
    "           Tested...\n",
    "### Step 10: Deploy your software for client usage\n",
    "           Software Doply on Client Website \n",
    "           Users of the website can acess this by signing into to the website"
   ]
  },
  {
   "cell_type": "code",
   "execution_count": 3,
   "id": "2bb8f1f5-3e13-421f-afa0-1efc80cdfef0",
   "metadata": {},
   "outputs": [
    {
     "name": "stdout",
     "output_type": "stream",
     "text": [
      "Lahore\n",
      "42.54\n"
     ]
    }
   ],
   "source": [
    "# Code\n",
    "print (\"Lahore\")\n",
    "print (42.54)"
   ]
  },
  {
   "cell_type": "markdown",
   "id": "e34e6371-5e08-4172-86b8-f6953930dd35",
   "metadata": {},
   "source": [
    "## Task 4:\n",
    "### Step 1: Correct understanding of real world problem scenerio\n",
    "        print the folloeing message\n",
    "           class name  \n",
    "           Average CGPA in 1st semester \n",
    "### Step 2: Extract client requirement \n",
    "        A simple program to Print the following message  \n",
    "         class name  \n",
    "         Average CGPA in 1st semester\n",
    "### Step 3: Extract Input Processing Output\n",
    "        Input: \n",
    "           class name  \n",
    "           Average CGPA in 1st semester\n",
    "       Processing: \n",
    "           print() function\n",
    "       Output:\n",
    "           class name  \n",
    "           Average CGPA in 1st semester\n",
    "### Step 4: Write Down Psudo Code\n",
    "          1.Start\n",
    "          2. print Your Class Name\n",
    "          3. print your class average CGPA\n",
    "          4. End\n",
    "### Step 5: Draw Flowchart If needed\n",
    "             Not Required\n",
    "### Step 6: Select most suitable programing language , IDE , machine to write high quality code\n",
    "           Programing language : Python \n",
    "           IDE : Jupyter notebook\n",
    "           Operanting system : Windows 11\n",
    "           Machine : i5 (12th gen)\n",
    "### Step 7: Write Down developer and system information\n",
    "           Company Name :  Ilm-O-Irfan\n",
    "           Developer Name : M.Safi-Ur-Rehman\n",
    "           Developer ID : 12345\n",
    "           Mobile No: 0335- xxxxxxx\n",
    "           Operating System : Windows 11\n",
    "           IDE : Jupyter Notebook\n",
    "           Program Name : Python\n",
    "           Version: \n",
    "           Licence:\n",
    "           Start Date:\n",
    "           End Date:\n",
    "### Step 8: Transform Psudo code (Or Flowchart) with proper comments:\n",
    "           Given Below:- \n",
    "### Step 9: Test Your Code\n",
    "           Tested...\n",
    "### Step 10: Deploy your software for client usage\n",
    "           Software Doply on Client Website \n",
    "           Users of the website can acess this by signing into to the website"
   ]
  },
  {
   "cell_type": "code",
   "execution_count": 4,
   "id": "b8b3e3c5-98f5-4606-9306-3db53ceed864",
   "metadata": {},
   "outputs": [
    {
     "name": "stdout",
     "output_type": "stream",
     "text": [
      "SP24-BSE\n",
      "3.36\n"
     ]
    }
   ],
   "source": [
    "# code \n",
    "print(\"SP24-BSE\")\n",
    "print(3.36)"
   ]
  },
  {
   "cell_type": "markdown",
   "id": "6e1b2b5a-4cec-4b53-9565-5b4b45cf38fa",
   "metadata": {},
   "source": [
    "# ----------------------------------------------------------------------------------------"
   ]
  },
  {
   "cell_type": "markdown",
   "id": "2279c2ce-2624-4745-9909-a17b29eeb434",
   "metadata": {},
   "source": [
    "## -> ** Variables ** <--"
   ]
  },
  {
   "cell_type": "markdown",
   "id": "2a07be2d-efaa-490f-97e0-1b08595c39e9",
   "metadata": {},
   "source": [
    "## -> Tasks"
   ]
  },
  {
   "cell_type": "markdown",
   "id": "a4881b6c-409b-43fe-9c95-4fb320b6ad12",
   "metadata": {},
   "source": [
    "## Task 1:\n",
    "### Step 1: Correct understanding of real world problem scenerio\n",
    "        Print your Age and Name and age with the concept of variables \n",
    "### Step 2: Extract client requirement \n",
    "        A simple program to print Age and Name and age with the concept of variables\n",
    "### Step 3: Extract Input Processing Output\n",
    "        Input: \n",
    "           class name  \n",
    "           Average CGPA in 1st semester\n",
    "       Processing: \n",
    "           print() function\n",
    "       Output:\n",
    "           class name  \n",
    "           Average CGPA in 1st semester\n",
    "### Step 4: Write Down Psudo Code\n",
    "          1.Start\n",
    "          2. Declare Variables \n",
    "          3. print Your Class Name\n",
    "          4. print your class average CGPA\n",
    "          5. End\n",
    "### Step 5: Draw Flowchart If needed\n",
    "             Not Required\n",
    "### Step 6: Select most suitable programing language , IDE , machine to write high quality code\n",
    "           Programing language : Python \n",
    "           IDE : Jupyter notebook\n",
    "           Operanting system : Windows 11\n",
    "           Machine : i5 (12th gen)\n",
    "### Step 7: Write Down developer and system information\n",
    "           Company Name :  Ilm-O-Irfan\n",
    "           Developer Name : M.Safi-Ur-Rehman\n",
    "           Developer ID : 12345\n",
    "           Mobile No: 0335- xxxxxxx\n",
    "           Operating System : Windows 11\n",
    "           IDE : Jupyter Notebook\n",
    "           Program Name : Python\n",
    "           Version: \n",
    "           Licence:\n",
    "           Start Date:\n",
    "           End Date:\n",
    "### Step 8: Transform Psudo code (Or Flowchart) with proper comments:\n",
    "           Given Below:- \n",
    "### Step 9: Test Your Code\n",
    "           Tested...\n",
    "### Step 10: Deploy your software for client usage\n",
    "           Software Doply on Client Website \n",
    "           Users of the website can acess this by signing into to the website"
   ]
  },
  {
   "cell_type": "code",
   "execution_count": 5,
   "id": "37fcb4c9-bd7d-47f3-9838-8d543c2c78f4",
   "metadata": {},
   "outputs": [
    {
     "name": "stdout",
     "output_type": "stream",
     "text": [
      "SP24-BSE\n",
      "3.34\n"
     ]
    }
   ],
   "source": [
    "# code \n",
    "name = \"SP24-BSE\"\n",
    "cgpa = 3.34\n",
    "print(name)\n",
    "print(cgpa)"
   ]
  },
  {
   "cell_type": "markdown",
   "id": "8f9b32e6-46cb-49f0-ad95-cb764f08242b",
   "metadata": {},
   "source": [
    "## Task 2:\n",
    "### Step 1: Correct understanding of real world problem scenerio\n",
    "        print the following message with the help of varaibles\n",
    "           city name , temperature \n",
    "### Step 2: Extract client requirement \n",
    "        A simple program to Print the following message  with the help of varaibles\n",
    "         city name , temperature\n",
    "### Step 3: Extract Input Processing Output\n",
    "        Input: \n",
    "           city name , temperature\n",
    "       Processing: \n",
    "           print() function\n",
    "       Output:\n",
    "           city name , temperature\n",
    "### Step 4: Write Down Psudo Code\n",
    "          1.Start\n",
    "          2. Declare Variables \n",
    "          3. print Your City Name\n",
    "          4. print your city Temperatue \n",
    "          5. End\n",
    "### Step 5: Draw Flowchart If needed\n",
    "             Not Required\n",
    "### Step 6: Select most suitable programing language , IDE , machine to write high quality code\n",
    "           Programing language : Python \n",
    "           IDE : Jupyter notebook\n",
    "           Operanting system : Windows 11\n",
    "           Machine : i5 (12th gen)\n",
    "### Step 7: Write Down developer and system information\n",
    "          Company Name : iLM-O-irfan \n",
    "           Developer Name : M.Safi-Ur-Rehman\n",
    "           Developer ID : 123345\n",
    "           Mobile No: 0335 xxxxxxx\n",
    "           Operating System : Windows 11\n",
    "           IDE : Jupyter notebook\n",
    "           Program Name :\n",
    "           Version:\n",
    "           Licence:\n",
    "           Start Date:\n",
    "           End Date:\n",
    "### Step 8: Transform Psudo code (Or Flowchart) with proper comments:\n",
    "           Given Below:- \n",
    "### Step 9: Test Your Code\n",
    "           Tested...\n",
    "### Step 10: Deploy your software for client usage\n",
    "           Software Doply on Client Website \n",
    "           Users of the website can acess this by signing into to the website"
   ]
  },
  {
   "cell_type": "code",
   "execution_count": 6,
   "id": "d4cc6fe9-7455-4a80-92b7-f01d74b75d7d",
   "metadata": {},
   "outputs": [
    {
     "name": "stdout",
     "output_type": "stream",
     "text": [
      "Lahore\n",
      "42.35\n"
     ]
    }
   ],
   "source": [
    "# Code\n",
    "city= \"Lahore\"\n",
    "temp= 42.35\n",
    "print (city)\n",
    "print (temp)"
   ]
  },
  {
   "cell_type": "markdown",
   "id": "a216f110-1890-4f4a-898a-ec8225acfb39",
   "metadata": {},
   "source": [
    "## Task 3:\n",
    "### Step 1: Correct understanding of real world problem scenerio\n",
    "        Declare vaiables and determine thier daata type of the variables \n",
    "### Step 2: Extract client requirement \n",
    "        A simple program to Declare vaiables and determine thier daata type of the variables \n",
    "### Step 3: Extract Input Processing Output\n",
    "        Input: \n",
    "           No of inputs = (4)\n",
    "           string\n",
    "           integer\n",
    "           float\n",
    "           complex Numbers \n",
    "       Processing: \n",
    "           print() function\n",
    "           type () function\n",
    "       Output:\n",
    "           Data types of the Inputs\n",
    "### Step 4: Write Down Psudo Code\n",
    "          1.Start\n",
    "          2. Declare Variables \n",
    "          3. print Your fav game  \n",
    "          4. print your class average CGPA\n",
    "          5. print your age \n",
    "          6. print a compex number\n",
    "          7. End\n",
    "### Step 5: Draw Flowchart If needed\n",
    "             Not Required\n",
    "### Step 6: Select most suitable programing language , IDE , machine to write high quality code\n",
    "           Programing language : Python \n",
    "           IDE : Jupyter notebook\n",
    "           Operanting system : Windows 11\n",
    "           Machine : i5 (12th gen)\n",
    "### Step 7: Write Down developer and system information\n",
    "           Company Name :  Ilm-O-Irfan\n",
    "           Developer Name : M.Safi-Ur-Rehman\n",
    "           Developer ID : 12345\n",
    "           Mobile No: 0335- xxxxxxx\n",
    "           Operating System : Windows 11\n",
    "           IDE : Jupyter Notebook\n",
    "           Program Name : Python\n",
    "           Version: \n",
    "           Licence:\n",
    "           Start Date:\n",
    "           End Date:\n",
    "### Step 8: Transform Psudo code (Or Flowchart) with proper comments:\n",
    "           Given Below:- \n",
    "### Step 9: Test Your Code\n",
    "           Tested...\n",
    "### Step 10: Deploy your software for client usage\n",
    "           Software Doply on Client Website \n",
    "           Users of the website can acess this by signing into to the website"
   ]
  },
  {
   "cell_type": "code",
   "execution_count": 7,
   "id": "4cda7aaa-0db6-43d8-8ce8-74dd05ec7645",
   "metadata": {},
   "outputs": [
    {
     "name": "stdout",
     "output_type": "stream",
     "text": [
      "Data type of Age is  <class 'int'>\n",
      "Data type of CGPA is  <class 'float'>\n",
      "Data type of Complex Number is  <class 'complex'>\n",
      "Data type of Game is  <class 'str'>\n"
     ]
    }
   ],
   "source": [
    "# CODE 1:\n",
    "game = \"Hockey\"\n",
    "age= 25\n",
    "cgpa=3.54\n",
    "num=5+6j\n",
    "print(\"Data type of Age is \" ,type(age))\n",
    "print(\"Data type of CGPA is \" ,type(cgpa))\n",
    "print(\"Data type of Complex Number is \" ,type(num))\n",
    "print(\"Data type of Game is \" ,type(game))"
   ]
  },
  {
   "cell_type": "markdown",
   "id": "08b28456-c7ed-4f7e-b644-47684c8ad169",
   "metadata": {},
   "source": [
    "## Task 4:\n",
    "### Step 1: Correct understanding of real world problem scenerio\n",
    "        Print a Random Number in a specific range \n",
    "### Step 2: Extract client requirement \n",
    "        A simple program to  Print a Random Number in a specific range \n",
    "### Step 3: Extract Input Processing Output\n",
    "        Input: \n",
    "           random number \n",
    "       Processing: \n",
    "           print() function\n",
    "           random.randrange() function\n",
    "       Output:\n",
    "           random number\n",
    "### Step 4: Write Down Psudo Code\n",
    "          1.Start\n",
    "          2. Import random library\n",
    "          3. print random number with random () function\n",
    "          4. End\n",
    "### Step 5: Draw Flowchart If needed\n",
    "             Not Required\n",
    "### Step 6: Select most suitable programing language , IDE , machine to write high quality code\n",
    "           Programing language : Python \n",
    "           IDE : Jupyter notebook\n",
    "           Operanting system : Windows 11\n",
    "           Machine : i5 (12th gen)\n",
    "### Step 7: Write Down developer and system information\n",
    "           Company Name :  Ilm-O-Irfan\n",
    "           Developer Name : M.Safi-Ur-Rehman\n",
    "           Developer ID : 12345\n",
    "           Mobile No: 0335- xxxxxxx\n",
    "           Operating System : Windows 11\n",
    "           IDE : Jupyter Notebook\n",
    "           Program Name : Python\n",
    "           Version: \n",
    "           Licence:\n",
    "           Start Date:\n",
    "           End Date:\n",
    "### Step 8: Transform Psudo code (Or Flowchart) with proper comments:\n",
    "           Given Below:- \n",
    "### Step 9: Test Your Code\n",
    "           Tested...\n",
    "### Step 10: Deploy your software for client usage\n",
    "           Software Doply on Client Website \n",
    "           Users of the website can acess this by signing into to the website"
   ]
  },
  {
   "cell_type": "code",
   "execution_count": 8,
   "id": "7654b3bb-0444-456f-a546-b1f891c2732f",
   "metadata": {},
   "outputs": [
    {
     "name": "stdout",
     "output_type": "stream",
     "text": [
      "390\n"
     ]
    }
   ],
   "source": [
    "# CODE 3\n",
    "import random \n",
    "print(random.randrange(100,1000))"
   ]
  },
  {
   "cell_type": "markdown",
   "id": "f6292ff3-3036-4b9e-a216-4481cf149e95",
   "metadata": {},
   "source": [
    "# ----------------------------------------------------------------------------------------"
   ]
  },
  {
   "cell_type": "markdown",
   "id": "7c106998-6f6a-46e1-bda3-ddf93aae7e81",
   "metadata": {},
   "source": [
    "## -> ** Arthimatic Operaters ** <--"
   ]
  },
  {
   "cell_type": "markdown",
   "id": "c8179d2b-ba79-4263-afe4-7250672031e9",
   "metadata": {},
   "source": [
    "## -> Tasks"
   ]
  },
  {
   "cell_type": "markdown",
   "id": "57284b9e-e7b0-4b2e-8079-5edddff4c05d",
   "metadata": {},
   "source": [
    "## Task 1:\n",
    "### Step 1: Correct understanding of real world problem scenerio\n",
    "        Study the concept and printing the arithematic operators with correct Precedence\n",
    "### Step 2: Extract client requirement \n",
    "        A simple program to Study the concept and printing the arithematic operators with correct Precedence \n",
    "### Step 3: Extract Input Processing Output\n",
    "        Input: \n",
    "           Integer or Float number \n",
    "       Processing: \n",
    "           print() function\n",
    "       Output:\n",
    "           Integer or float numbers\n",
    "### Step 4: Write Down Psudo Code\n",
    "          1.Start\n",
    "          2. Input Integer or float Number with Arthematic Operators\n",
    "          3. print result due to Arthematic Operators\n",
    "          4. End\n",
    "### Step 5: Draw Flowchart If needed\n",
    "             Not Required\n",
    "### Step 6: Select most suitable programing language , IDE , machine to write high quality code\n",
    "           Programing language : Python \n",
    "           IDE : Jupyter notebook\n",
    "           Operanting system : Windows 11\n",
    "           Machine : i5 (12th gen)\n",
    "### Step 7: Write Down developer and system information\n",
    "           Company Name :  Ilm-O-Irfan\n",
    "           Developer Name : M.Safi-Ur-Rehman\n",
    "           Developer ID : 12345\n",
    "           Mobile No: 0335- xxxxxxx\n",
    "           Operating System : Windows 11\n",
    "           IDE : Jupyter Notebook\n",
    "           Program Name : Python\n",
    "           Version: \n",
    "           Licence:\n",
    "           Start Date:\n",
    "           End Date:\n",
    "### Step 8: Transform Psudo code (Or Flowchart) with proper comments:\n",
    "           Given Below:- \n",
    "### Step 9: Test Your Code\n",
    "           Tested...\n",
    "### Step 10: Deploy your software for client usage\n",
    "           Software Doply on Client Website \n",
    "           Users of the website can acess this by signing into to the website"
   ]
  },
  {
   "cell_type": "code",
   "execution_count": 9,
   "id": "c6863ea2-ec7d-4e6e-8031-33da05b46a24",
   "metadata": {},
   "outputs": [
    {
     "name": "stdout",
     "output_type": "stream",
     "text": [
      "-4\n",
      "30\n"
     ]
    }
   ],
   "source": [
    "#Code\n",
    "print(15//3%2+5-2*5)\n",
    "print(15//(3%2)+(5-2)*5)"
   ]
  },
  {
   "cell_type": "markdown",
   "id": "d18454e9-c62e-4c0d-9614-8a65bb742936",
   "metadata": {},
   "source": [
    "## Task 2:\n",
    "### Step 1: Correct understanding of real world problem scenerio\n",
    "        Study the concept and printing the arithematic operators with correct Precedence\n",
    "### Step 2: Extract client requirement \n",
    "        A simple program to Study the concept and printing the arithematic operators with correct Precedence \n",
    "### Step 3: Extract Input Processing Output\n",
    "        Input: \n",
    "           Integer or Float number \n",
    "       Processing: \n",
    "           print() function\n",
    "       Output:\n",
    "           Integer or float numbers\n",
    "### Step 4: Write Down Psudo Code\n",
    "          1.Start\n",
    "          2. Input Integer or float Number with Arthematic Operators\n",
    "          3. print result due to Arthematic Operators\n",
    "          4. End\n",
    "### Step 5: Draw Flowchart If needed\n",
    "             Not Required\n",
    "### Step 6: Select most suitable programing language , IDE , machine to write high quality code\n",
    "           Programing language : Python \n",
    "           IDE : Jupyter notebook\n",
    "           Operanting system : Windows 11\n",
    "           Machine : i5 (12th gen)\n",
    "### Step 7: Write Down developer and system information\n",
    "           Company Name :  Ilm-O-Irfan\n",
    "           Developer Name : M.Safi-Ur-Rehman\n",
    "           Developer ID : 12345\n",
    "           Mobile No: 0335- xxxxxxx\n",
    "           Operating System : Windows 11\n",
    "           IDE : Jupyter Notebook\n",
    "           Program Name : Python\n",
    "           Version: \n",
    "           Licence:\n",
    "           Start Date:\n",
    "           End Date:\n",
    "### Step 8: Transform Psudo code (Or Flowchart) with proper comments:\n",
    "           Given Below:- \n",
    "### Step 9: Test Your Code\n",
    "           Tested...\n",
    "### Step 10: Deploy your software for client usage\n",
    "           Software Doply on Client Website \n",
    "           Users of the website can acess this by signing into to the website"
   ]
  },
  {
   "cell_type": "code",
   "execution_count": 10,
   "id": "10916cef-4e19-4a01-90ee-4107a3a0d1f4",
   "metadata": {},
   "outputs": [
    {
     "name": "stdout",
     "output_type": "stream",
     "text": [
      "-2.0\n",
      "0\n"
     ]
    }
   ],
   "source": [
    "#code\n",
    "print(15/3%2+5-2**3)\n",
    "print(13**5%6//7)"
   ]
  },
  {
   "cell_type": "markdown",
   "id": "70e493b1-e073-4a5d-b57b-4fefa96c6f62",
   "metadata": {},
   "source": [
    "## Task 3:\n",
    "### Step 1: Correct understanding of real world problem scenerio\n",
    "        Study the concept and printing the arithematic operators with correct Precedence\n",
    "### Step 2: Extract client requirement \n",
    "        A simple program to Study the concept and printing the arithematic operators with correct Precedence \n",
    "### Step 3: Extract Input Processing Output\n",
    "        Input: \n",
    "           Integer or Float number \n",
    "       Processing: \n",
    "           print() function\n",
    "       Output:\n",
    "           Integer or float numbers\n",
    "### Step 4: Write Down Psudo Code\n",
    "          1.Start\n",
    "          2. Input Integer or float Number with Arthematic Operators\n",
    "          3. print result due to Arthematic Operators\n",
    "          4. End\n",
    "### Step 5: Draw Flowchart If needed\n",
    "             Not Required\n",
    "### Step 6: Select most suitable programing language , IDE , machine to write high quality code\n",
    "           Programing language : Python \n",
    "           IDE : Jupyter notebook\n",
    "           Operanting system : Windows 11\n",
    "           Machine : i5 (12th gen)\n",
    "### Step 7: Write Down developer and system information\n",
    "           Company Name :  Ilm-O-Irfan\n",
    "           Developer Name : M.Safi-Ur-Rehman\n",
    "           Developer ID : 12345\n",
    "           Mobile No: 0335- xxxxxxx\n",
    "           Operating System : Windows 11\n",
    "           IDE : Jupyter Notebook\n",
    "           Program Name : Python\n",
    "           Version: \n",
    "           Licence:\n",
    "           Start Date:\n",
    "           End Date:\n",
    "### Step 8: Transform Psudo code (Or Flowchart) with proper comments:\n",
    "           Given Below:- \n",
    "### Step 9: Test Your Code\n",
    "           Tested...\n",
    "### Step 10: Deploy your software for client usage\n",
    "           Software Doply on Client Website \n",
    "           Users of the website can acess this by signing into to the website"
   ]
  },
  {
   "cell_type": "code",
   "execution_count": 11,
   "id": "6e369c93-d976-406e-8f06-8df17080db75",
   "metadata": {},
   "outputs": [
    {
     "name": "stdout",
     "output_type": "stream",
     "text": [
      "9.285714285714286\n",
      "33\n"
     ]
    }
   ],
   "source": [
    "#code\n",
    "print(15-8/7*5)\n",
    "print(16//6-5+6**2)"
   ]
  },
  {
   "cell_type": "markdown",
   "id": "2efcc265-27e7-4dcc-89fd-8dbb600f66ae",
   "metadata": {},
   "source": [
    "# ----------------------------------------------------------------------------------------"
   ]
  },
  {
   "cell_type": "markdown",
   "id": "08dcb79b-f384-429d-b5c2-4893a37220a6",
   "metadata": {},
   "source": [
    "## -> ** Selection Structures ** <--"
   ]
  },
  {
   "cell_type": "markdown",
   "id": "f01d05c6-2a89-4396-9a57-94e1c9a08298",
   "metadata": {},
   "source": [
    "# If Statement"
   ]
  },
  {
   "cell_type": "markdown",
   "id": "0547c164-119c-40f5-b4c0-1aff33f9f2cd",
   "metadata": {},
   "source": [
    "## -> Tasks"
   ]
  },
  {
   "cell_type": "markdown",
   "id": "b93b03ee-4f23-474e-b41c-658dae34ee80",
   "metadata": {},
   "source": [
    "## Task 1\n",
    "### Step 1: Correct understanding of real world problem scenerio\n",
    "        Write a program which takes Number as input and determines if it is positive, negative, or zero\n",
    "### Step 2: Extract client requirement \n",
    "        A simple program to determine number is positive, negative, or zero \n",
    "### Step 3: Extract Input Processing Output\n",
    "        Input : No of Input = 1 \n",
    "               Age (Data type :Integer)\n",
    "        Processing : print(),  input(),  if statments \n",
    "        Output: No of Output = 1\n",
    "                Datatype = string\n",
    "### Step 4: Write Down Psudo Code\n",
    "          1.Start\n",
    "          2.Declare Varibles \n",
    "          3.Input age\n",
    "          4. if num >0 \n",
    "             print (\"It is Positive Number\")\n",
    "          5. if num <0 \n",
    "             print (\"It is Negative Number\")\n",
    "          6. if num =0 \n",
    "             print (\"It is Zero\")\n",
    "          7. ENd\n",
    "### Step 5: Draw Flowchart If needed\n",
    "             Not Required\n",
    "### Step 6: Select most suitable programing language , IDE , machine to write high quality code\n",
    "           Programing language : Python \n",
    "           IDE : Jupyter notebook\n",
    "           Operanting system : Windows 11\n",
    "           Machine : i5 (12th gen)\n",
    "### Step 7: Write Down developer and system information\n",
    "           Company Name : Ilm -o-Irfan \n",
    "           Developer Name : M.Safi-Ur-Rehman\n",
    "           Developer ID : 12345\n",
    "           Mobile No: 0335-xxxxxxx\n",
    "           Operating System : Windows 11\n",
    "           IDE : Jupyter Notebook\n",
    "           Program Name :\n",
    "           Version:\n",
    "           Licence:\n",
    "           Start Date:\n",
    "           End Date:\n",
    "### Step 8: Transform Psudo code (Or Flowchart) with proper comments:\n",
    "           Given Below:- \n",
    "### Step 9: Test Your Code\n",
    "           Tested...\n",
    "### Step 10: Deploy your software for client usage\n",
    "           Software Doply on Client Website \n",
    "           Users of the website can acess this by signing into to the website"
   ]
  },
  {
   "cell_type": "code",
   "execution_count": 12,
   "id": "7f5f6d98-f635-4fef-b22b-0eecec3a4f8e",
   "metadata": {},
   "outputs": [
    {
     "name": "stdin",
     "output_type": "stream",
     "text": [
      "Enter a Integer Number  -45\n"
     ]
    },
    {
     "name": "stdout",
     "output_type": "stream",
     "text": [
      "Number is Negative\n"
     ]
    }
   ],
   "source": [
    "# CODE 1\n",
    "# to find whether the given input is positive or negative or zero\n",
    "num=int(input(\"Enter a Integer Number \"))\n",
    "if num<0:\n",
    "    print(\"Number is Negative\")\n",
    "if num>0:\n",
    "    print(\"Number is Positive \")\n",
    "if num==0:\n",
    "    print(\"Number is 0 \")"
   ]
  },
  {
   "cell_type": "markdown",
   "id": "9f41e10e-57cd-4d88-8222-4cf958e88d35",
   "metadata": {},
   "source": [
    "## Task 2\n",
    "### Step 1: Correct understanding of real world problem scenerio\n",
    "        Write a program which takes Year as input and determines if it is leap year or not\n",
    "### Step 2: Extract client requirement \n",
    "        A simple program to determine Year is leap year or not\n",
    "### Step 3: Extract Input Processing Output\n",
    "        Input : No of Input = 1 \n",
    "               Age (Data type :Integer)\n",
    "        Processing : print(),  input(),  if statments \n",
    "        Output: No of Output = 1\n",
    "                Datatype = string\n",
    "### Step 4: Write Down Psudo Code\n",
    "          1.Start\n",
    "          2.Declare Varibles \n",
    "          3.Input year\n",
    "          4. if year%4==0 \n",
    "             print (\"It is Leap Year\")\n",
    "          5. if year%4!=0\n",
    "             print (\"It is Not a Leap Year\")\n",
    "          6. ENd\n",
    "### Step 5: Draw Flowchart If needed\n",
    "             Not Required\n",
    "### Step 6: Select most suitable programing language , IDE , machine to write high quality code\n",
    "           Programing language : Python \n",
    "           IDE : Jupyter notebook\n",
    "           Operanting system : Windows 11\n",
    "           Machine : i5 (12th gen)\n",
    "### Step 7: Write Down developer and system information\n",
    "           Company Name : Ilm -o-Irfan \n",
    "           Developer Name : M.Safi-Ur-Rehman\n",
    "           Developer ID : 12345\n",
    "           Mobile No: 0335-xxxxxxx\n",
    "           Operating System : Windows 11\n",
    "           IDE : Jupyter Notebook\n",
    "           Program Name :\n",
    "           Version:\n",
    "           Licence:\n",
    "           Start Date:\n",
    "           End Date:\n",
    "### Step 8: Transform Psudo code (Or Flowchart) with proper comments:\n",
    "           Given Below:- \n",
    "### Step 9: Test Your Code\n",
    "           Tested...\n",
    "### Step 10: Deploy your software for client usage\n",
    "           Software Doply on Client Website \n",
    "           Users of the website can acess this by signing into to the website"
   ]
  },
  {
   "cell_type": "code",
   "execution_count": 13,
   "id": "12f67a3f-e2d7-4394-93b5-05d3196ffe86",
   "metadata": {},
   "outputs": [
    {
     "name": "stdin",
     "output_type": "stream",
     "text": [
      "Enter Year  2020\n"
     ]
    },
    {
     "name": "stdout",
     "output_type": "stream",
     "text": [
      "It is Leap year\n"
     ]
    }
   ],
   "source": [
    "## CODE 2\n",
    "# To Find whether the year is leap year or not \n",
    "year=int(input(\"Enter Year \"))\n",
    "if (year%4==0):\n",
    "    print(\"It is Leap year\")\n",
    "if (year%4!=0):\n",
    "    print(\"It is not A leap Year\")"
   ]
  },
  {
   "cell_type": "markdown",
   "id": "ebcc8470-56da-4849-8995-fe00a59eb203",
   "metadata": {},
   "source": [
    "## Task 3\n",
    "### Step 1: Correct understanding of real world problem scenerio\n",
    "        Write a program which takes Temperatire as input and determines if it is hot Cold or mild day\n",
    "### Step 2: Extract client requirement \n",
    "        A simple program to determine if it is hot Cold or mild day\n",
    "### Step 3: Extract Input Processing Output\n",
    "        Input : No of Input = 1 \n",
    "               Temperature (Data type :Integer)\n",
    "        Processing : print(),  input(),  if statments \n",
    "        Output: No of Output = 1\n",
    "                Datatype = string\n",
    "### Step 4: Write Down Psudo Code\n",
    "          1.Start\n",
    "          2.Declare Varibles \n",
    "          3.Input year\n",
    "          4 .if temp>30:\n",
    "               print(\"It is hot Day\")\n",
    "          5. if (temp<20):\n",
    "               print (\"It is Cool Day\")\n",
    "          6 .if (temp>20 and temp <30):    # and is logical operator used in place of &&\n",
    "                print(\"It is Mild day\")\n",
    "          6.ENd\n",
    "### Step 5: Draw Flowchart If needed\n",
    "             Not Required\n",
    "### Step 6: Select most suitable programing language , IDE , machine to write high quality code\n",
    "           Programing language : Python \n",
    "           IDE : Jupyter notebook\n",
    "           Operanting system : Windows 11\n",
    "           Machine : i5 (12th gen)\n",
    "### Step 7: Write Down developer and system information\n",
    "           Company Name : Ilm -o-Irfan \n",
    "           Developer Name : M.Safi-Ur-Rehman\n",
    "           Developer ID : 12345\n",
    "           Mobile No: 0335-xxxxxxx\n",
    "           Operating System : Windows 11\n",
    "           IDE : Jupyter Notebook\n",
    "           Program Name :\n",
    "           Version:\n",
    "           Licence:\n",
    "           Start Date:\n",
    "           End Date:\n",
    "### Step 8: Transform Psudo code (Or Flowchart) with proper comments:\n",
    "           Given Below:- \n",
    "### Step 9: Test Your Code\n",
    "           Tested...\n",
    "### Step 10: Deploy your software for client usage\n",
    "           Software Doply on Client Website \n",
    "           Users of the website can acess this by signing into to the website"
   ]
  },
  {
   "cell_type": "code",
   "execution_count": 14,
   "id": "9698170e-0c8e-42fe-adc5-aada5d1fae84",
   "metadata": {},
   "outputs": [
    {
     "name": "stdin",
     "output_type": "stream",
     "text": [
      "Enter Temperature 25\n"
     ]
    },
    {
     "name": "stdout",
     "output_type": "stream",
     "text": [
      "It is Mild day\n"
     ]
    }
   ],
   "source": [
    "# CODE 3\n",
    "# To find Whether it hot,mild or cold day\n",
    "temp=float(input(\"Enter Temperature\"))\n",
    "if temp>30:\n",
    "    print(\"It is hot Day\")\n",
    "if (temp<20):\n",
    "    print (\"It is Cool Day\")\n",
    "if (temp>20 and temp <30):    # and is logical operator used in place of &&\n",
    "    print(\"It is Mild day\")"
   ]
  },
  {
   "cell_type": "markdown",
   "id": "2e9ee214-7440-4516-9ac0-a115be20b03e",
   "metadata": {},
   "source": [
    "## If Else Statement"
   ]
  },
  {
   "cell_type": "markdown",
   "id": "d9e8e7e7-aa0c-49e5-9158-f06c0b603bd4",
   "metadata": {},
   "source": [
    "## -> Tasks "
   ]
  },
  {
   "cell_type": "markdown",
   "id": "80cc5bf2-5664-4844-843b-cf59c9cd4107",
   "metadata": {},
   "source": [
    "## Task 1\n",
    "### Step 1: Correct understanding of real world problem scenerio\n",
    "        Write a program which takes age as input and determines is (S)he is eligiable to Vote or not\n",
    "### Step 2: Extract client requirement \n",
    "        A simple program to determine the age eligibilty of the user for Vote\n",
    "### Step 3: Extract Input Processing Output\n",
    "        Input : No of Input = 1 \n",
    "               Age (Data type :Integer)\n",
    "        Processing : print(),  input(),  if else statments \n",
    "        Output: No of Output = 1\n",
    "                Datatype = string\n",
    "### Step 4: Write Down Psudo Code\n",
    "          1.Start\n",
    "          2.Declare Varibles \n",
    "          3.Input age\n",
    "          4. if age >=18 \n",
    "             print (\"Candiate is eligiable\")\n",
    "          5. else\n",
    "             print (\"Candiate is not eligiable\")  \n",
    "          6. End\n",
    "### Step 5: Draw Flowchart If needed\n",
    "             Not Required\n",
    "### Step 6: Select most suitable programing language , IDE , machine to write high quality code\n",
    "           Programing language : Python \n",
    "           IDE : Jupyter notebook\n",
    "           Operanting system : Windows 11\n",
    "           Machine : i5 (12th gen)\n",
    "### Step 7: Write Down developer and system information\n",
    "           Company Name : iLM-O-irfan \n",
    "           Developer Name : M.Safi-Ur-Rehman\n",
    "           Developer ID : 123345\n",
    "           Mobile No: 0335 xxxxxxx\n",
    "           Operating System : Windows 11\n",
    "           IDE : Jupyter notebook\n",
    "           Program Name :\n",
    "           Version:\n",
    "           Licence:\n",
    "           Start Date:\n",
    "           End Date:\n",
    "### Step 8: Transform Psudo code (Or Flowchart) with proper comments:\n",
    "           Given Below:- \n",
    "### Step 9: Test Your Code\n",
    "           Tested...\n",
    "### Step 10: Deploy your software for client usage\n",
    "           Software Doply on Client Website \n",
    "           Users of the website can acess this by signing into to the website"
   ]
  },
  {
   "cell_type": "code",
   "execution_count": 15,
   "id": "7e453211-b990-4df5-9a25-e067e43bf7f4",
   "metadata": {},
   "outputs": [
    {
     "name": "stdin",
     "output_type": "stream",
     "text": [
      "Enter Age :  29\n"
     ]
    },
    {
     "name": "stdout",
     "output_type": "stream",
     "text": [
      "Candiate is Eleigible \n"
     ]
    }
   ],
   "source": [
    "age= int (input (\"Enter Age : \"))\n",
    "if age>= 18:\n",
    "    print(\"Candiate is Eleigible \")\n",
    "else:\n",
    "    print(\"Candiate is Not Eleigible \")"
   ]
  },
  {
   "cell_type": "markdown",
   "id": "b4ba9f22-aa72-492d-a285-a1b075487306",
   "metadata": {},
   "source": [
    "## Task 2:\n",
    "### Step 1: Correct understanding of real world problem scenerio\n",
    "        Write a program which takes hair length as input and determines if the person is Male or female\n",
    "### Step 2: Extract client requirement \n",
    "        A simple program to determine if the person is male or female\n",
    "### Step 3: Extract Input Processing Output\n",
    "        Input : No of Input = 1 \n",
    "               hair (Data type :Integer)\n",
    "        Processing : print(),  input(),  if else statments \n",
    "        Output: No of Output = 1\n",
    "                Datatype = string\n",
    "### Step 4: Write Down Psudo Code\n",
    "          1.Start\n",
    "          2.Declare Varibles \n",
    "          3.Input hair \n",
    "          4. if age > 6 \n",
    "             print (\"Peson is Female\")\n",
    "          5. else\n",
    "             print (\"Person is Male\")  \n",
    "          6. End\n",
    "### Step 5: Draw Flowchart If needed\n",
    "             Not Required\n",
    "### Step 6: Select most suitable programing language , IDE , machine to write high quality code\n",
    "           Programing language : Python \n",
    "           IDE : Jupyter notebook\n",
    "           Operanting system : Windows 11\n",
    "           Machine : i5 (12th gen)\n",
    "### Step 7: Write Down developer and system information\n",
    "           Company Name : iLM-O-irfan \n",
    "           Developer Name : M.Safi-Ur-Rehman\n",
    "           Developer ID : 123345\n",
    "           Mobile No: 0335 xxxxxxx\n",
    "           Operating System : Windows 11\n",
    "           IDE : Jupyter notebook\n",
    "           Program Name :\n",
    "           Version:\n",
    "           Licence:\n",
    "           Start Date:\n",
    "           End Date:\n",
    "### Step 8: Transform Psudo code (Or Flowchart) with proper comments:\n",
    "           Given Below:- \n",
    "### Step 9: Test Your Code\n",
    "           Tested...\n",
    "### Step 10: Deploy your software for client usage\n",
    "           Software Doply on Client Website \n",
    "           Users of the website can acess this by signing into to the website"
   ]
  },
  {
   "cell_type": "code",
   "execution_count": 16,
   "id": "f4f6cf55-7c1d-4896-bdce-efcfb493b62a",
   "metadata": {},
   "outputs": [
    {
     "name": "stdin",
     "output_type": "stream",
     "text": [
      " Enter Hair Lenth is inches   14\n"
     ]
    },
    {
     "name": "stdout",
     "output_type": "stream",
     "text": [
      "Person is Female\n"
     ]
    }
   ],
   "source": [
    "hairLength=int(input(\" Enter Hair Lenth is inches  \"))\n",
    "if hairLength>6:\n",
    "    print (\"Person is Female\")\n",
    "else:\n",
    "    print (\"Person is Male\")"
   ]
  },
  {
   "cell_type": "markdown",
   "id": "34e4aefa-1e90-4f3c-ba72-efc31f2d2bf4",
   "metadata": {},
   "source": [
    "## If elif Stament "
   ]
  },
  {
   "cell_type": "markdown",
   "id": "e2b1e369-ecea-4248-8548-4539525e840b",
   "metadata": {},
   "source": [
    "## -> Tasks"
   ]
  },
  {
   "cell_type": "markdown",
   "id": "f3c9e9c3-66a6-423f-9f22-22bdcf2b73ed",
   "metadata": {},
   "source": [
    "## Task 1:\n",
    "### Step 1: Correct understanding of real world problem scenerio\n",
    "        Write a program which takes age as input and determines if the person is child , teenage , adult, senior\n",
    "### Step 2: Extract client requirement \n",
    "        A simple program to determine if the person child, teenager, adult , or senior\n",
    "### Step 3: Extract Input Processing Output\n",
    "        Input : No of Input = 1 \n",
    "               age (Data type :Integer)\n",
    "        Processing : print(),  input(),  if else statments \n",
    "        Output: No of Output = 1\n",
    "                Datatype = string\n",
    "### Step 4: Write Down Psudo Code\n",
    "          1.Start\n",
    "          2.Declare Varibles \n",
    "          3.Input hair \n",
    "          4. if age < 13 \n",
    "                print (\"Peson is Child\")\n",
    "             else if age >= 13 and age <20 \n",
    "                print (\"Peson is Tennager \")\n",
    "             else if age > 19 and age <60 \n",
    "                 print (\"Peson is Adult\")\n",
    "          5. else\n",
    "                 print (\"Person is Senior\")  \n",
    "          6. End\n",
    "### Step 5: Draw Flowchart If needed\n",
    "             Not Required\n",
    "### Step 6: Select most suitable programing language , IDE , machine to write high quality code\n",
    "           Programing language : Python \n",
    "           IDE : Jupyter notebook\n",
    "           Operanting system : Windows 11\n",
    "           Machine : i5 (12th gen)\n",
    "### Step 7: Write Down developer and system information\n",
    "           Company Name : iLM-O-irfan \n",
    "           Developer Name : M.Safi-Ur-Rehman\n",
    "           Developer ID : 123345\n",
    "           Mobile No: 0335 xxxxxxx\n",
    "           Operating System : Windows 11\n",
    "           IDE : Jupyter notebook\n",
    "           Program Name :\n",
    "           Version:\n",
    "           Licence:\n",
    "           Start Date:\n",
    "           End Date:\n",
    "### Step 8: Transform Psudo code (Or Flowchart) with proper comments:\n",
    "           Given Below:- \n",
    "### Step 9: Test Your Code\n",
    "           Tested...\n",
    "### Step 10: Deploy your software for client usage\n",
    "           Software Doply on Client Website \n",
    "           Users of the website can acess this by signing into to the website"
   ]
  },
  {
   "cell_type": "code",
   "execution_count": 17,
   "id": "29ecb0e3-0221-408d-b82b-4f3899e010a5",
   "metadata": {},
   "outputs": [
    {
     "name": "stdin",
     "output_type": "stream",
     "text": [
      "Enter your Age  62\n"
     ]
    },
    {
     "name": "stdout",
     "output_type": "stream",
     "text": [
      "Person is Senior\n"
     ]
    }
   ],
   "source": [
    "age = int (input(\"Enter your Age \"))\n",
    "if age < 13 :\n",
    "    print (\"Peson is Child\")\n",
    "elif age >= 13 and age <20 :\n",
    "    print (\"Peson is Tennager \")\n",
    "elif age > 19 and age <60 :     \n",
    "    print (\"Peson is Adult\")\n",
    "else:\n",
    "    print (\"Person is Senior\")  "
   ]
  },
  {
   "cell_type": "markdown",
   "id": "155ca3d9-47fc-42a0-ab05-d945f8ff3c87",
   "metadata": {},
   "source": [
    "## Task 2:\n",
    "### Step 1: Correct understanding of real world problem scenerio\n",
    "        Write a program which takes length as input and determines if it is equilateral , isoseceles, or scalene triangle\n",
    "### Step 2: Extract client requirement \n",
    "        A simple program to determine if it is equilateral , isoseceles, or scalene triangle\n",
    "### Step 3: Extract Input Processing Output\n",
    "        Input : No of Input = 3 \n",
    "               length1 (Data type :float)\n",
    "               length2 (Data type :float)\n",
    "               length3 (Data type :float)\n",
    "        Processing : print(),  input(),  if else statments \n",
    "        Output: No of Output = 1\n",
    "                Datatype = string\n",
    "### Step 4: Write Down Psudo Code\n",
    "          1.Start\n",
    "          2.Declare Varibles \n",
    "          3.Input length \n",
    "          4. if lenght1 and length2 == length3:  \n",
    "                print (\"Triangle is Equilateral \")\n",
    "             elif length1 or length2 == length3:\n",
    "                print (\"Triangle is Isoseceles \")\n",
    "             else:\n",
    "                 print (\"Triangle is Scalene \")  \n",
    "          6. End\n",
    "### Step 5: Draw Flowchart If needed\n",
    "             Not Required\n",
    "### Step 6: Select most suitable programing language , IDE , machine to write high quality code\n",
    "           Programing language : Python \n",
    "           IDE : Jupyter notebook\n",
    "           Operanting system : Windows 11\n",
    "           Machine : i5 (12th gen)\n",
    "### Step 7: Write Down developer and system information\n",
    "           Company Name : iLM-O-irfan \n",
    "           Developer Name : M.Safi-Ur-Rehman\n",
    "           Developer ID : 123345\n",
    "           Mobile No: 0335 xxxxxxx\n",
    "           Operating System : Windows 11\n",
    "           IDE : Jupyter notebook\n",
    "           Program Name :\n",
    "           Version:\n",
    "           Licence:\n",
    "           Start Date:\n",
    "           End Date:\n",
    "### Step 8: Transform Psudo code (Or Flowchart) with proper comments:\n",
    "           Given Below:- \n",
    "### Step 9: Test Your Code\n",
    "           Tested...\n",
    "### Step 10: Deploy your software for client usage\n",
    "           Software Doply on Client Website \n",
    "           Users of the website can acess this by signing into to the website"
   ]
  },
  {
   "cell_type": "code",
   "execution_count": 18,
   "id": "5ab22fbb-49d8-4f6d-bf4a-269fb84ef77b",
   "metadata": {},
   "outputs": [
    {
     "name": "stdin",
     "output_type": "stream",
     "text": [
      " Enter the Length 1 of the Triangle  12\n",
      " Enter the Length 2 of the Triangle  14\n",
      " Enter the Length 3 of the Triangle  12\n"
     ]
    },
    {
     "name": "stdout",
     "output_type": "stream",
     "text": [
      "Triangle is Isoseceles \n"
     ]
    }
   ],
   "source": [
    "length1 = float( input (\" Enter the Length 1 of the Triangle \"))\n",
    "length2 = float( input (\" Enter the Length 2 of the Triangle \"))\n",
    "length3 = float( input (\" Enter the Length 3 of the Triangle \"))\n",
    "if (length1==length2) and (length1== length3):  \n",
    "      print (\"Triangle is Equilateral \")\n",
    "elif (length1==length2) or (length1== length3) or (length2==length3):\n",
    "     print (\"Triangle is Isoseceles \")\n",
    "else:\n",
    "     print (\"Triangle is Scalene \")  "
   ]
  },
  {
   "cell_type": "markdown",
   "id": "479706d7-20fa-4007-bc47-cba0f8f6ac9a",
   "metadata": {},
   "source": [
    "# ----------------------------------------------------------------------------------------"
   ]
  },
  {
   "cell_type": "markdown",
   "id": "a9b23567-dc03-4acc-a79b-05122104ef30",
   "metadata": {},
   "source": [
    "## -> ** Repetition Structures ** <--"
   ]
  },
  {
   "cell_type": "markdown",
   "id": "7b42840e-0e09-430c-9de4-cd7f797a971e",
   "metadata": {},
   "source": [
    "## While Loop"
   ]
  },
  {
   "cell_type": "markdown",
   "id": "6afb9238-af04-4a6d-96cb-1f0b678f7284",
   "metadata": {},
   "source": [
    "## -> Tasks"
   ]
  },
  {
   "cell_type": "markdown",
   "id": "801defea-28bc-4899-a2e4-36940fe8cea9",
   "metadata": {},
   "source": [
    "## Task 1:\n",
    "### Step 1: Correct understanding of real world problem scenerio\n",
    "        Write a program which Prints First 50 Even Numbers on the screen \n",
    "### Step 2: Extract client requirement \n",
    "        A simple program to print first 50 even numbers with while loop\n",
    "### Step 3: Extract Input Processing Output\n",
    "        Input : No Input is required for this programe\n",
    "        Processing : print(),  input(),  While loop \n",
    "        Output: \n",
    "                Datatype = interger\n",
    "### Step 4: Write Down Psudo Code\n",
    "          1.Start\n",
    "          2.Declare Varibles \n",
    "          3.initialize counter variable to 0\n",
    "          4.Run a while loop following condition \n",
    "              while (counter<=50):\n",
    "                  print (counter)\n",
    "                  counter+=2\n",
    "          5. End\n",
    "### Step 5: Draw Flowchart If needed\n",
    "             Not Required\n",
    "### Step 6: Select most suitable programing language , IDE , machine to write high quality code\n",
    "           Programing language : Python \n",
    "           IDE : Jupyter notebook\n",
    "           Operanting system : Windows 11\n",
    "           Machine : i5 (12th gen)\n",
    "### Step 7: Write Down developer and system information\n",
    "           Company Name : iLM-O-irfan \n",
    "           Developer Name : M.Safi-Ur-Rehman\n",
    "           Developer ID : 123345\n",
    "           Mobile No: 0335 xxxxxxx\n",
    "           Operating System : Windows 11\n",
    "           IDE : Jupyter notebook\n",
    "           Program Name :\n",
    "           Version:\n",
    "           Licence:\n",
    "           Start Date:\n",
    "           End Date:\n",
    "### Step 8: Transform Psudo code (Or Flowchart) with proper comments:\n",
    "           Given Below:- \n",
    "### Step 9: Test Your Code\n",
    "           Tested...\n",
    "### Step 10: Deploy your software for client usage\n",
    "           Software Doply on Client Website \n",
    "           Users of the website can acess this by signing into to the website"
   ]
  },
  {
   "cell_type": "code",
   "execution_count": 19,
   "id": "475a6750-9283-49a4-9ddc-202240a2d892",
   "metadata": {},
   "outputs": [
    {
     "name": "stdout",
     "output_type": "stream",
     "text": [
      "0\n",
      "2\n",
      "4\n",
      "6\n",
      "8\n",
      "10\n",
      "12\n",
      "14\n",
      "16\n",
      "18\n",
      "20\n",
      "22\n",
      "24\n",
      "26\n",
      "28\n",
      "30\n",
      "32\n",
      "34\n",
      "36\n",
      "38\n",
      "40\n",
      "42\n",
      "44\n",
      "46\n",
      "48\n",
      "50\n"
     ]
    }
   ],
   "source": [
    "counter=0\n",
    "while (counter<=50):\n",
    "    print(counter)\n",
    "    counter+=2"
   ]
  },
  {
   "cell_type": "markdown",
   "id": "b55e7407-61a3-49df-8570-3ff1cfa424b9",
   "metadata": {},
   "source": [
    "## Task 2:\n",
    "### Step 1: Correct understanding of real world problem scenerio\n",
    "        Write a program which takes input from the user and print its table on the screen  \n",
    "### Step 2: Extract client requirement \n",
    "        A simple program to take input from the user and print its table\n",
    "### Step 3: Extract Input Processing Output\n",
    "        Input : No of inputs : 1\n",
    "                data type = integer\n",
    "        Processing : print(),  input(),  While loop \n",
    "        Output: \n",
    "                Datatype = interger\n",
    "### Step 4: Write Down Psudo Code\n",
    "          1.Start\n",
    "          2.Declare Varibles\n",
    "          3.initialize counter variable to 1\n",
    "          4.Input variable x from the user\n",
    "          4.Run a while loop following condition \n",
    "              while (counter<=10):\n",
    "                  print (f\"{x} * {counter} ={x*counter*x}\")\n",
    "                  counter+=1\n",
    "          5. End\n",
    "### Step 5: Draw Flowchart If needed\n",
    "             Not Required\n",
    "### Step 6: Select most suitable programing language , IDE , machine to write high quality code\n",
    "           Programing language : Python \n",
    "           IDE : Jupyter notebook\n",
    "           Operanting system : Windows 11\n",
    "           Machine : i5 (12th gen)\n",
    "### Step 7: Write Down developer and system information\n",
    "           Company Name : \n",
    "           Developer Name :\n",
    "           Developer ID :\n",
    "           Mobile No:\n",
    "           Operating System :\n",
    "           IDE :\n",
    "           Program Name :\n",
    "           Version:\n",
    "           Licence:\n",
    "           Start Date:\n",
    "           End Date:\n",
    "### Step 8: Transform Psudo code (Or Flowchart) with proper comments:\n",
    "           Given Below:- \n",
    "### Step 9: Test Your Code\n",
    "           Tested...\n",
    "### Step 10: Deploy your software for client usage\n",
    "           Software Doply on Client Website \n",
    "           Users of the website can acess this by signing into to the website"
   ]
  },
  {
   "cell_type": "code",
   "execution_count": 20,
   "id": "9622dea2-81d7-44d0-8c37-c6a608e1e295",
   "metadata": {},
   "outputs": [
    {
     "name": "stdin",
     "output_type": "stream",
     "text": [
      "Enter a Number to print its table  5\n"
     ]
    },
    {
     "name": "stdout",
     "output_type": "stream",
     "text": [
      " 5 * 1 =5\n",
      " 5 * 2 =10\n",
      " 5 * 3 =15\n",
      " 5 * 4 =20\n",
      " 5 * 5 =25\n",
      " 5 * 6 =30\n",
      " 5 * 7 =35\n",
      " 5 * 8 =40\n",
      " 5 * 9 =45\n",
      " 5 * 10 =50\n"
     ]
    },
    {
     "name": "stdin",
     "output_type": "stream",
     "text": [
      "Do you want to continue (yes/no):  yes\n",
      "Enter a Number to print its table  8\n"
     ]
    },
    {
     "name": "stdout",
     "output_type": "stream",
     "text": [
      " 8 * 1 =8\n",
      " 8 * 2 =16\n",
      " 8 * 3 =24\n",
      " 8 * 4 =32\n",
      " 8 * 5 =40\n",
      " 8 * 6 =48\n",
      " 8 * 7 =56\n",
      " 8 * 8 =64\n",
      " 8 * 9 =72\n",
      " 8 * 10 =80\n"
     ]
    },
    {
     "name": "stdin",
     "output_type": "stream",
     "text": [
      "Do you want to continue (yes/no):  no\n"
     ]
    }
   ],
   "source": [
    "choice = \"yes\"\n",
    "while choice == \"yes\":\n",
    "    counter = 1\n",
    "    x = int(input(\"Enter a Number to print its table \"))\n",
    "    while (counter<=10):\n",
    "       print(f\" {x} * {counter} ={x*counter}\")\n",
    "       counter+=1\n",
    "    choice=input(\"Do you want to continue (yes/no): \").strip().lower()"
   ]
  },
  {
   "cell_type": "markdown",
   "id": "4875c9fe-5b4f-4746-872a-d88f61d5ded8",
   "metadata": {},
   "source": [
    "## Task 4:\n",
    "### Step 1: Correct understanding of real world problem scenerio\n",
    "        Write a program which takes input from the user also takes upper bond and lower bond and print its table on the screen  \n",
    "### Step 2: Extract client requirement \n",
    "        A simple program to take input to print its table and also takes upper and lower bond from the user and print its table\n",
    "### Step 3: Extract Input Processing Output\n",
    "        Input : No of inputs : 3\n",
    "                data type = integer\n",
    "        Processing : print(),  input(),  While loop \n",
    "        Output: \n",
    "                Datatype = interger\n",
    "### Step 4: Write Down Psudo Code\n",
    "          1.Start\n",
    "          2.Declare Varibles\n",
    "          3.Input variable x from the user\n",
    "          4.Input upper and lower variables from the user\n",
    "          5.Run a while loop following condition \n",
    "              while (lower<=upper):\n",
    "                  print (f\"{x} * {lower} ={x*lower}\")\n",
    "                  counter+=1\n",
    "          5. End\n",
    "### Step 5: Draw Flowchart If needed\n",
    "             Not Required\n",
    "### Step 6: Select most suitable programing language , IDE , machine to write high quality code\n",
    "           Programing language : Python \n",
    "           IDE : Jupyter notebook\n",
    "           Operanting system : Windows 11\n",
    "           Machine : i5 (12th gen)\n",
    "### Step 7: Write Down developer and system information\n",
    "           Company Name : \n",
    "           Developer Name :\n",
    "           Developer ID :\n",
    "           Mobile No:\n",
    "           Operating System :\n",
    "           IDE :\n",
    "           Program Name :\n",
    "           Version:\n",
    "           Licence:\n",
    "           Start Date:\n",
    "           End Date:\n",
    "### Step 8: Transform Psudo code (Or Flowchart) with proper comments:\n",
    "           Given Below:- \n",
    "### Step 9: Test Your Code\n",
    "           Tested...\n",
    "### Step 10: Deploy your software for client usage\n",
    "           Software Doply on Client Website \n",
    "           Users of the website can acess this by signing into to the website"
   ]
  },
  {
   "cell_type": "code",
   "execution_count": null,
   "id": "d8b98c23-9d62-4dba-be37-5ad77469152d",
   "metadata": {},
   "outputs": [],
   "source": [
    "num = int(input(\"Enter A number to print its table \"))\n",
    "lower = int (input(\"Enter The lower Bond of the table \"))\n",
    "upper = int (input(\"Enter The upper Bond of the table \"))\n",
    "while (lower<=upper):\n",
    "     print (f\"{num} * {lower} ={num*lower}\")\n",
    "     lower+=1"
   ]
  },
  {
   "cell_type": "markdown",
   "id": "cb5e0e84-79d6-4e0b-9118-ffd9708b342e",
   "metadata": {},
   "source": [
    "## For Loop"
   ]
  },
  {
   "cell_type": "markdown",
   "id": "c5354329-c5cd-4534-9996-47ce4bffc7f3",
   "metadata": {},
   "source": [
    "## -> Tasks"
   ]
  },
  {
   "cell_type": "markdown",
   "id": "fefa1d74-65e2-4706-86df-e690baa9b833",
   "metadata": {},
   "source": [
    "## Task 1:\n",
    "### Step 1: Correct understanding of real world problem scenerio\n",
    "        Write a program which Prints First 50 Even Numbers on the screen \n",
    "### Step 2: Extract client requirement \n",
    "        A simple program to print first 50 even numbers with For loop\n",
    "### Step 3: Extract Input Processing Output\n",
    "        Input : No Input is required for this programe\n",
    "        Processing : print(),  input(),  For loop \n",
    "        Output: \n",
    "                Datatype = interger\n",
    "### Step 4: Write Down Psudo Code\n",
    "          1.Start\n",
    "          2.Declare Varibles \n",
    "          3.initialize counter variable to 0\n",
    "          4.Run a for to iterate first 50 Even Numbers, range from 0 to 50 with the increament of 2.\n",
    "          5. End\n",
    "### Step 5: Draw Flowchart If needed\n",
    "             Not Required\n",
    "### Step 6: Select most suitable programing language , IDE , machine to write high quality code\n",
    "           Programing language : Python \n",
    "           IDE : Jupyter notebook\n",
    "           Operanting system : Windows 11\n",
    "           Machine : i5 (12th gen)\n",
    "### Step 7: Write Down developer and system information\n",
    "           Company Name : iLM-O-irfan \n",
    "           Developer Name : M.Safi-Ur-Rehman\n",
    "           Developer ID : 123345\n",
    "           Mobile No: 0335 xxxxxxx\n",
    "           Operating System : Windows 11\n",
    "           IDE : Jupyter notebook\n",
    "           Program Name :\n",
    "           Version:\n",
    "           Licence:\n",
    "           Start Date:\n",
    "           End Date:\n",
    "### Step 8: Transform Psudo code (Or Flowchart) with proper comments:\n",
    "           Given Below:- \n",
    "### Step 9: Test Your Code\n",
    "           Tested...\n",
    "### Step 10: Deploy your software for client usage\n",
    "           Software Doply on Client Website \n",
    "           Users of the website can acess this by signing into to the website"
   ]
  },
  {
   "cell_type": "code",
   "execution_count": 21,
   "id": "f16eaf3a-6721-459e-b5f8-0599c305715c",
   "metadata": {},
   "outputs": [
    {
     "name": "stdout",
     "output_type": "stream",
     "text": [
      "0\n",
      "2\n",
      "4\n",
      "6\n",
      "8\n",
      "10\n",
      "12\n",
      "14\n",
      "16\n",
      "18\n",
      "20\n",
      "22\n",
      "24\n",
      "26\n",
      "28\n",
      "30\n",
      "32\n",
      "34\n",
      "36\n",
      "38\n",
      "40\n",
      "42\n",
      "44\n",
      "46\n",
      "48\n",
      "50\n"
     ]
    }
   ],
   "source": [
    "for counter in range (0,51,2):\n",
    "    print(counter)"
   ]
  },
  {
   "cell_type": "markdown",
   "id": "ea74486f-e064-4667-bc57-9867bd61e2c7",
   "metadata": {},
   "source": [
    "## Task 2:\n",
    "### Step 1: Correct understanding of real world problem scenerio\n",
    "        Write a program which takes input from the user and print its table on the screen  \n",
    "### Step 2: Extract client requirement \n",
    "        A simple program to take input from the user and print its table\n",
    "### Step 3: Extract Input Processing Output\n",
    "        Input : No of inputs : 1\n",
    "                data type = integer\n",
    "        Processing : print(),  input(),  For Loop loop \n",
    "        Output: \n",
    "                Datatype = interger\n",
    "### Step 4: Write Down Psudo Code\n",
    "          1.Start\n",
    "          2.Declare Varibles\n",
    "          3. Input num\n",
    "          3.initialize counter variable to 1\n",
    "          4.Input variable x from the user\n",
    "          4.Iterate a for loop from range 1 to 11 \n",
    "          5. Multiply number with the counter of loop variable in each iteration\n",
    "          6. End\n",
    "### Step 5: Draw Flowchart If needed\n",
    "             Not Required\n",
    "### Step 6: Select most suitable programing language , IDE , machine to write high quality code\n",
    "           Programing language : Python \n",
    "           IDE : Jupyter notebook\n",
    "           Operanting system : Windows 11\n",
    "           Machine : i5 (12th gen)\n",
    "### Step 7: Write Down developer and system information\n",
    "           Company Name : iLM-O-irfan \n",
    "           Developer Name : M.Safi-Ur-Rehman\n",
    "           Developer ID : 123345\n",
    "           Mobile No: 0335 xxxxxxx\n",
    "           Operating System : Windows 11\n",
    "           IDE : Jupyter notebook\n",
    "           Program Name :\n",
    "           Version:\n",
    "           Licence:\n",
    "           Start Date:\n",
    "           End Date:\n",
    "### Step 8: Transform Psudo code (Or Flowchart) with proper comments:\n",
    "           Given Below:- \n",
    "### Step 9: Test Your Code\n",
    "           Tested...\n",
    "### Step 10: Deploy your software for client usage\n",
    "           Software Doply on Client Website \n",
    "           Users of the website can acess this by signing into to the website"
   ]
  },
  {
   "cell_type": "code",
   "execution_count": 23,
   "id": "9ce4f700-1d07-4501-a927-9f36fa1c2b4c",
   "metadata": {},
   "outputs": [
    {
     "name": "stdin",
     "output_type": "stream",
     "text": [
      "Enter the Number to Print Its table  5\n"
     ]
    },
    {
     "name": "stdout",
     "output_type": "stream",
     "text": [
      "5 x 1 = 5\n",
      "5 x 2 = 10\n",
      "5 x 3 = 15\n",
      "5 x 4 = 20\n",
      "5 x 5 = 25\n",
      "5 x 6 = 30\n",
      "5 x 7 = 35\n",
      "5 x 8 = 40\n",
      "5 x 9 = 45\n",
      "5 x 10 = 50\n"
     ]
    },
    {
     "name": "stdin",
     "output_type": "stream",
     "text": [
      "Do you want to print a Table of another number ? (yes/no) yes\n",
      "Enter the Number to Print Its table  8\n"
     ]
    },
    {
     "name": "stdout",
     "output_type": "stream",
     "text": [
      "8 x 1 = 8\n",
      "8 x 2 = 16\n",
      "8 x 3 = 24\n",
      "8 x 4 = 32\n",
      "8 x 5 = 40\n",
      "8 x 6 = 48\n",
      "8 x 7 = 56\n",
      "8 x 8 = 64\n",
      "8 x 9 = 72\n",
      "8 x 10 = 80\n"
     ]
    },
    {
     "name": "stdin",
     "output_type": "stream",
     "text": [
      "Do you want to print a Table of another number ? (yes/no) no\n"
     ]
    }
   ],
   "source": [
    "choice=\"yes\"\n",
    "while choice==\"yes\":\n",
    "    num=int(input(\"Enter the Number to Print Its table \"))\n",
    "    for counter in range (1,11):\n",
    "       print(f\"{num} x {counter} = {num*counter}\")\n",
    "    choice=input(\"Do you want to print a Table of another number ? (yes/no)\").strip().lower()"
   ]
  },
  {
   "cell_type": "markdown",
   "id": "bfe416c2-fd69-4495-872b-ca17d0f51a29",
   "metadata": {},
   "source": [
    "## Task 4:\n",
    "### Step 1: Correct understanding of real world problem scenerio\n",
    "        Write a program which takes input from the user also takes upper bond and lower bond and print its table on the screen  \n",
    "### Step 2: Extract client requirement \n",
    "        A simple program to take input to print its table and also takes upper and lower bond from the user and print its table\n",
    "### Step 3: Extract Input Processing Output\n",
    "        Input : No of inputs : 3\n",
    "                data type = integer\n",
    "        Processing : print(),  input(),  For loop \n",
    "        Output: \n",
    "                Datatype = interger\n",
    "### Step 4: Write Down Psudo Code\n",
    "          1.Start\n",
    "          2.Declare Varibles\n",
    "          3.Input variable num from the user\n",
    "          4.Input upper and lower variables from the user\n",
    "          5.intiate loop control variable x with lower variable\n",
    "          5.Iterate a for loop ranges from lower bound to upper bound+1\n",
    "          6. multiply number with loop cintrol variable \n",
    "          5. End\n",
    "### Step 5: Draw Flowchart If needed\n",
    "             Not Required\n",
    "### Step 6: Select most suitable programing language , IDE , machine to write high quality code\n",
    "           Programing language : Python \n",
    "           IDE : Jupyter notebook\n",
    "           Operanting system : Windows 11\n",
    "           Machine : i5 (12th gen)\n",
    "### Step 7: Write Down developer and system information\n",
    "          Company Name : iLM-O-irfan \n",
    "           Developer Name : M.Safi-Ur-Rehman\n",
    "           Developer ID : 123345\n",
    "           Mobile No: 0335 xxxxxxx\n",
    "           Operating System : Windows 11\n",
    "           IDE : Jupyter notebook\n",
    "           Program Name :\n",
    "           Version:\n",
    "           Licence:\n",
    "           Start Date:\n",
    "           End Date:\n",
    "### Step 8: Transform Psudo code (Or Flowchart) with proper comments:\n",
    "           Given Below:- \n",
    "### Step 9: Test Your Code\n",
    "           Tested...\n",
    "### Step 10: Deploy your software for client usage\n",
    "           Software Doply on Client Website \n",
    "           Users of the website can acess this by signing into to the website"
   ]
  },
  {
   "cell_type": "code",
   "execution_count": 24,
   "id": "fb413270-444e-4a95-9714-eeb1a06e9971",
   "metadata": {},
   "outputs": [
    {
     "name": "stdin",
     "output_type": "stream",
     "text": [
      "Enter Number to Print its Table  4\n",
      "Enter the lower bound of the table  6\n",
      "Enter the upper bound of the table  9\n"
     ]
    },
    {
     "name": "stdout",
     "output_type": "stream",
     "text": [
      "4 x 6 = 24 \n",
      "4 x 7 = 28 \n",
      "4 x 8 = 32 \n",
      "4 x 9 = 36 \n"
     ]
    }
   ],
   "source": [
    "num=int(input(\"Enter Number to Print its Table \"))\n",
    "lower=int(input(\"Enter the lower bound of the table \"))\n",
    "upper=int(input(\"Enter the upper bound of the table \"))\n",
    "\n",
    "for x in range(lower,upper+1):\n",
    "    print(f\"{num} x {x} = {num*x} \")"
   ]
  },
  {
   "cell_type": "markdown",
   "id": "a4e550c0-2370-4d2f-a42c-7ae1f0cb598e",
   "metadata": {},
   "source": [
    "## Nested Loop "
   ]
  },
  {
   "cell_type": "markdown",
   "id": "d88bf757-b49c-4ae4-a614-e3f896d7fe80",
   "metadata": {},
   "source": [
    "## -> Tasks"
   ]
  },
  {
   "cell_type": "markdown",
   "id": "e06783a6-b615-49d8-9503-7ec4cb6cb388",
   "metadata": {},
   "source": [
    "# Patterns"
   ]
  },
  {
   "cell_type": "markdown",
   "id": "a57164d2-bf6b-4b8c-8137-24e9110bf5b8",
   "metadata": {},
   "source": [
    "## Task 1:\n",
    "### Step 1: Correct understanding of real world problem scenerio\n",
    "        Write a program of certain pattern for the underatanding of the nested loops  \n",
    "### Step 2: Extract client requirement \n",
    "        A simple program certain pattern for the underatanding of the nested loops\n",
    "### Step 3: Extract Input Processing Output\n",
    "        Input : \n",
    "           data type = integer\n",
    "        Processing : print(),  input(),  For loop \n",
    "        Output: \n",
    "                Datatype = interger\n",
    "### Step 4: Write Down Psudo Code\n",
    "          1.Start\n",
    "          2.Declare Varibles\n",
    "          3.Iterate outer loop with ranges 0 to 5\n",
    "          4.Iterate inner loop ranges from 0 to outer loop\n",
    "          5. End\n",
    "### Step 5: Draw Flowchart If needed\n",
    "             Not Required\n",
    "### Step 6: Select most suitable programing language , IDE , machine to write high quality code\n",
    "           Programing language : Python \n",
    "           IDE : Jupyter notebook\n",
    "           Operanting system : Windows 11\n",
    "           Machine : i5 (12th gen)\n",
    "### Step 7: Write Down developer and system information\n",
    "           Company Name : iLM-O-irfan \n",
    "           Developer Name : M.Safi-Ur-Rehman\n",
    "           Developer ID : 123345\n",
    "           Mobile No: 0335 xxxxxxx\n",
    "           Operating System : Windows 11\n",
    "           IDE : Jupyter notebook\n",
    "           Program Name :\n",
    "           Version:\n",
    "           Licence:\n",
    "           Start Date:\n",
    "           End Date:\n",
    "### Step 8: Transform Psudo code (Or Flowchart) with proper comments:\n",
    "           Given Below:- \n",
    "### Step 9: Test Your Code\n",
    "           Tested...\n",
    "### Step 10: Deploy your software for client usage\n",
    "           Software Doply on Client Website \n",
    "           Users of the website can acess this by signing into to the website"
   ]
  },
  {
   "cell_type": "code",
   "execution_count": 25,
   "id": "bdb494e8-69c3-4491-89a2-cc347fdc8102",
   "metadata": {},
   "outputs": [
    {
     "name": "stdout",
     "output_type": "stream",
     "text": [
      "*\n",
      "**\n",
      "***\n",
      "****\n",
      "*****\n"
     ]
    }
   ],
   "source": [
    "# By while loop \n",
    "start=1\n",
    "end=5\n",
    "x=start\n",
    "while (x<=end):\n",
    "    y=1\n",
    "    while y<=x:\n",
    "        print(\"*\",end='')\n",
    "        y+=1\n",
    "    print(\"\")\n",
    "    x+=1 "
   ]
  },
  {
   "cell_type": "markdown",
   "id": "9bdfe247-7f29-40d3-b454-df65d3134005",
   "metadata": {},
   "source": [
    "## Task 2:\n",
    "### Step 1: Correct understanding of real world problem scenerio\n",
    "        Write a program of certain pattern for the underatanding of the nested loops  \n",
    "### Step 2: Extract client requirement \n",
    "        A simple program certain pattern for the underatanding of the nested loops\n",
    "### Step 3: Extract Input Processing Output\n",
    "        Input : \n",
    "           data type = integer\n",
    "        Processing : print(),  input(),  For loop \n",
    "        Output: \n",
    "                Datatype = interger\n",
    "### Step 4: Write Down Psudo Code\n",
    "          1.Start\n",
    "          2.Declare Varibles\n",
    "          3.Iterate outer loop with ranges 0 to 5\n",
    "          4.Iterate inner loop ranges from 5 to outer loop with decrement operator\n",
    "          5. End\n",
    "### Step 5: Draw Flowchart If needed\n",
    "             Not Required\n",
    "### Step 6: Select most suitable programing language , IDE , machine to write high quality code\n",
    "           Programing language : Python \n",
    "           IDE : Jupyter notebook\n",
    "           Operanting system : Windows 11\n",
    "           Machine : i5 (12th gen)\n",
    "### Step 7: Write Down developer and system information\n",
    "           Company Name : iLM-O-irfan \n",
    "           Developer Name : M.Safi-Ur-Rehman\n",
    "           Developer ID : 123345\n",
    "           Mobile No: 0335 xxxxxxx\n",
    "           Operating System : Windows 11\n",
    "           IDE : Jupyter notebook\n",
    "           Program Name :\n",
    "           Version:\n",
    "           Licence:\n",
    "           Start Date:\n",
    "           End Date:\n",
    "### Step 8: Transform Psudo code (Or Flowchart) with proper comments:\n",
    "           Given Below:- \n",
    "### Step 9: Test Your Code\n",
    "           Tested...\n",
    "### Step 10: Deploy your software for client usage\n",
    "           Software Doply on Client Website \n",
    "           Users of the website can acess this by signing into to the website"
   ]
  },
  {
   "cell_type": "code",
   "execution_count": 26,
   "id": "8988c384-5963-4a26-b8af-a913e2dbff2a",
   "metadata": {},
   "outputs": [
    {
     "name": "stdout",
     "output_type": "stream",
     "text": [
      "*****\n",
      "****\n",
      "***\n",
      "**\n",
      "*\n"
     ]
    }
   ],
   "source": [
    "# by while loop\n",
    "start =1\n",
    "end =5\n",
    "x=start\n",
    "while x<=end:\n",
    "    y=5\n",
    "    while y>=x:\n",
    "        print (\"*\",end='')\n",
    "        y-=1\n",
    "    print(\"\")\n",
    "    x+=1"
   ]
  },
  {
   "cell_type": "markdown",
   "id": "0dbb710e-93be-4e3b-b0c2-11a0f2b3e860",
   "metadata": {},
   "source": [
    "## Task 3:\n",
    "### Step 1: Correct understanding of real world problem scenerio\n",
    "        Write a program of certain pattern for the underatanding of the nested loops  \n",
    "### Step 2: Extract client requirement \n",
    "        A simple program certain pattern for the underatanding of the nested loops\n",
    "### Step 3: Extract Input Processing Output\n",
    "        Input : \n",
    "           data type = integer\n",
    "        Processing : print(),  input(),  For loop \n",
    "        Output: \n",
    "                Datatype = interger\n",
    "### Step 4: Write Down Psudo Code\n",
    "          1.Start\n",
    "          2.Declare Varibles\n",
    "          3.Iterate outer loop with ranges 0 to 5\n",
    "          4.Iterate inner loop ranges from 5 to outer loop with decrement operator\n",
    "          5.Iterate inner loop ranges from 5 to outer loop with decrement operator to print space\n",
    "          6.Iterate inner loop ranges from 0 to outer loop with incrment operator to print starics\n",
    "          7.Iterate inner loop ranges from 0 to outer loop with increment operator to print starics\n",
    "          8. End\n",
    "### Step 5: Draw Flowchart If needed\n",
    "             Not Required\n",
    "### Step 6: Select most suitable programing language , IDE , machine to write high quality code\n",
    "           Programing language : Python \n",
    "           IDE : Jupyter notebook\n",
    "           Operanting system : Windows 11\n",
    "           Machine : i5 (12th gen)\n",
    "### Step 7: Write Down developer and system information\n",
    "           Company Name : iLM-O-irfan \n",
    "           Developer Name : M.Safi-Ur-Rehman\n",
    "           Developer ID : 123345\n",
    "           Mobile No: 0335 xxxxxxx\n",
    "           Operating System : Windows 11\n",
    "           IDE : Jupyter notebook\n",
    "           Program Name :\n",
    "           Version:\n",
    "           Licence:\n",
    "           Start Date:\n",
    "           End Date:\n",
    "### Step 8: Transform Psudo code (Or Flowchart) with proper comments:\n",
    "           Given Below:- \n",
    "### Step 9: Test Your Code\n",
    "           Tested...\n",
    "### Step 10: Deploy your software for client usage\n",
    "           Software Doply on Client Website \n",
    "           Users of the website can acess this by signing into to the website"
   ]
  },
  {
   "cell_type": "code",
   "execution_count": 27,
   "id": "2b2c3924-9de2-4833-9ee5-58ce55394f21",
   "metadata": {},
   "outputs": [
    {
     "name": "stdout",
     "output_type": "stream",
     "text": [
      "     \n",
      "    *\n",
      "   ***\n",
      "  *****\n",
      " *******\n",
      "*********\n"
     ]
    }
   ],
   "source": [
    "# By for loop\n",
    "for a in range (0,6):\n",
    "    for x in range (5,a,-1):\n",
    "        print(\" \",end='')\n",
    "    for y in range (1,a):\n",
    "        print(\"*\",end='')\n",
    "    for z in range (0,a):\n",
    "        print (\"*\",end='')\n",
    "    print (\"\")"
   ]
  },
  {
   "cell_type": "markdown",
   "id": "a2d75906-9374-40e6-a3d4-38d8e6d1d01c",
   "metadata": {},
   "source": [
    "# ----------------------------------------------------------------------------------------"
   ]
  },
  {
   "cell_type": "markdown",
   "id": "e7f858db-e143-45e5-90a1-f3bec1dfe211",
   "metadata": {},
   "source": [
    "## -> ** Functions ** <--"
   ]
  },
  {
   "cell_type": "markdown",
   "id": "5daad92e-b3bc-4776-95b0-c3cf58d8f8de",
   "metadata": {},
   "source": [
    "## -> Tasks"
   ]
  },
  {
   "cell_type": "markdown",
   "id": "5fa993ba-04ee-4458-b02e-ea33f88b01e0",
   "metadata": {},
   "source": [
    "## Task 1:\n",
    "### Step 1: Correct understanding of real world problem scenerio\n",
    "        Write a program of certain functions for the underatanding of the concept of funtions  \n",
    "### Step 2: Extract client requirement \n",
    "        A simple program certain functions for the underatanding of the concept of funtions\n",
    "### Step 3: Extract Input Processing Output\n",
    "        Input : \n",
    "           funtion call\n",
    "        Processing : print(),  functions()\n",
    "        Output: \n",
    "            The outputs of the called funtions \n",
    "### Step 4: Write Down Psudo Code\n",
    "          1.Start\n",
    "          2.define a funtion(s)\n",
    "          3.call in main function\n",
    "          4.End\n",
    "### Step 5: Draw Flowchart If needed\n",
    "             Not Required\n",
    "### Step 6: Select most suitable programing language , IDE , machine to write high quality code\n",
    "           Programing language : Python \n",
    "           IDE : Jupyter notebook\n",
    "           Operanting system : Windows 11\n",
    "           Machine : i5 (12th gen)\n",
    "### Step 7: Write Down developer and system information\n",
    "           Company Name : iLM-O-irfan \n",
    "           Developer Name : M.Safi-Ur-Rehman\n",
    "           Developer ID : 123345\n",
    "           Mobile No: 0335 xxxxxxx\n",
    "           Operating System : Windows 11\n",
    "           IDE : Jupyter notebook\n",
    "           Program Name :\n",
    "           Version:\n",
    "           Licence:\n",
    "           Start Date:\n",
    "           End Date:\n",
    "### Step 8: Transform Psudo code (Or Flowchart) with proper comments:\n",
    "           Given Below:- \n",
    "### Step 9: Test Your Code\n",
    "           Tested...\n",
    "### Step 10: Deploy your software for client usage\n",
    "           Software Doply on Client Website \n",
    "           Users of the website can acess this by signing into to the website"
   ]
  },
  {
   "cell_type": "code",
   "execution_count": 28,
   "id": "ca3cb790-dafc-4512-803e-a09159d127b3",
   "metadata": {},
   "outputs": [
    {
     "name": "stdout",
     "output_type": "stream",
     "text": [
      "I am in main \n",
      "Iam in Pakistan\n",
      "I am back in main \n",
      "I am in Qatar\n",
      "I am back in main \n"
     ]
    }
   ],
   "source": [
    "def pakistan():\n",
    "    print(\"Iam in Pakistan\")\n",
    "def Qatar():\n",
    "    print(\"I am in Qatar\")\n",
    "\n",
    "print(\"I am in main \")\n",
    "pakistan()\n",
    "print(\"I am back in main \")\n",
    "Qatar()\n",
    "print(\"I am back in main \")"
   ]
  },
  {
   "cell_type": "markdown",
   "id": "b8c06cd1-559d-403b-b5d8-a788f763abd7",
   "metadata": {},
   "source": []
  },
  {
   "cell_type": "markdown",
   "id": "a8321256-30f7-4153-b40a-02447bb98e56",
   "metadata": {},
   "source": []
  }
 ],
 "metadata": {
  "kernelspec": {
   "display_name": "Python 3 (ipykernel)",
   "language": "python",
   "name": "python3"
  },
  "language_info": {
   "codemirror_mode": {
    "name": "ipython",
    "version": 3
   },
   "file_extension": ".py",
   "mimetype": "text/x-python",
   "name": "python",
   "nbconvert_exporter": "python",
   "pygments_lexer": "ipython3",
   "version": "3.12.4"
  }
 },
 "nbformat": 4,
 "nbformat_minor": 5
}
